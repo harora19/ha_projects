{
 "cells": [
  {
   "cell_type": "code",
   "execution_count": 1,
   "id": "dcaaa052-06cd-4ca9-9e81-c5412bc243ab",
   "metadata": {},
   "outputs": [],
   "source": [
    "def say_hello():\n",
    "    print(\"hello\")\n",
    "    print(\"how are\")\n",
    "    print(\"you\")"
   ]
  },
  {
   "cell_type": "code",
   "execution_count": 2,
   "id": "c3d52ee6-299a-49cd-a239-54c4d2b5ff56",
   "metadata": {},
   "outputs": [
    {
     "name": "stdout",
     "output_type": "stream",
     "text": [
      "hello\n",
      "how are\n",
      "you\n"
     ]
    }
   ],
   "source": [
    "say_hello()"
   ]
  },
  {
   "cell_type": "code",
   "execution_count": 14,
   "id": "697e4e24-b27a-4788-8620-5255ef81a523",
   "metadata": {},
   "outputs": [],
   "source": [
    "def say_hello(name='Default'):\n",
    "    print(f'hello {name}')"
   ]
  },
  {
   "cell_type": "code",
   "execution_count": 16,
   "id": "e6c9f638-3d57-46d1-bf93-d71600a528d9",
   "metadata": {
    "scrolled": true
   },
   "outputs": [
    {
     "name": "stdout",
     "output_type": "stream",
     "text": [
      "hello Default\n"
     ]
    }
   ],
   "source": [
    "say_hello()"
   ]
  },
  {
   "cell_type": "code",
   "execution_count": 17,
   "id": "851c944d-d533-45a4-bf9a-e026c0401c88",
   "metadata": {},
   "outputs": [],
   "source": [
    "def add_num(num1,num2):\n",
    "    return num1+num2"
   ]
  },
  {
   "cell_type": "code",
   "execution_count": 19,
   "id": "1a53cb7b-dafe-4d51-b575-2fa14530f836",
   "metadata": {},
   "outputs": [],
   "source": [
    "result = add_num(10,20)"
   ]
  },
  {
   "cell_type": "code",
   "execution_count": 20,
   "id": "4751f0de-c9a0-4980-9eaf-ae695f36f897",
   "metadata": {
    "scrolled": true
   },
   "outputs": [
    {
     "data": {
      "text/plain": [
       "30"
      ]
     },
     "execution_count": 20,
     "metadata": {},
     "output_type": "execute_result"
    }
   ],
   "source": [
    "result"
   ]
  },
  {
   "cell_type": "code",
   "execution_count": 21,
   "id": "f1c8ccc7-0aca-434a-a442-a1ae0311bf05",
   "metadata": {},
   "outputs": [],
   "source": [
    "def print_result(a,b):\n",
    "    print(a+b)"
   ]
  },
  {
   "cell_type": "code",
   "execution_count": 22,
   "id": "24dac8b7-d93f-4d19-a7a8-eff0018e58be",
   "metadata": {},
   "outputs": [],
   "source": [
    "def return_result(a,b):\n",
    "    return a+b"
   ]
  },
  {
   "cell_type": "code",
   "execution_count": 24,
   "id": "856f6628-a39c-4aae-ba6f-e099162588ec",
   "metadata": {},
   "outputs": [
    {
     "name": "stdout",
     "output_type": "stream",
     "text": [
      "30\n"
     ]
    }
   ],
   "source": [
    "result = print_result(10,20)"
   ]
  },
  {
   "cell_type": "code",
   "execution_count": 26,
   "id": "db864652-91ee-4d10-b595-fc1ae2c3af18",
   "metadata": {},
   "outputs": [
    {
     "data": {
      "text/plain": [
       "NoneType"
      ]
     },
     "execution_count": 26,
     "metadata": {},
     "output_type": "execute_result"
    }
   ],
   "source": [
    "type(result)"
   ]
  },
  {
   "cell_type": "code",
   "execution_count": 28,
   "id": "964164e9-cc6d-4c36-8f3e-4e58c0172677",
   "metadata": {
    "scrolled": true
   },
   "outputs": [],
   "source": [
    "result = return_result(10,20)"
   ]
  },
  {
   "cell_type": "code",
   "execution_count": 29,
   "id": "6ac65094-67c7-48b4-8a15-1295b66660eb",
   "metadata": {},
   "outputs": [
    {
     "data": {
      "text/plain": [
       "30"
      ]
     },
     "execution_count": 29,
     "metadata": {},
     "output_type": "execute_result"
    }
   ],
   "source": [
    "result"
   ]
  },
  {
   "cell_type": "code",
   "execution_count": 33,
   "id": "32d2e42d-187f-42d7-abe0-e983335de271",
   "metadata": {},
   "outputs": [
    {
     "name": "stdout",
     "output_type": "stream",
     "text": [
      "[99, 98, 97, 96, 95, 94, 93, 92, 91, 90, 89, 88, 87, 86, 85, 84, 83, 82, 81, 80, 79, 78, 77, 76, 75, 74, 73, 72, 71, 70, 69, 68, 67, 66, 65, 64, 63, 62, 61, 60, 59, 58, 57, 56, 55, 54, 53, 52, 51, 50, 49, 48, 47, 46, 45, 44, 43, 42, 41, 40, 39, 38, 37, 36, 35, 34, 33, 32, 31, 30, 29, 28, 27, 26, 25, 24, 23, 22, 21, 20, 19, 18, 17, 16, 15, 14, 13, 12, 11, 10, 9, 8, 7, 6, 5, 4, 3, 2, 1, 0]\n"
     ]
    }
   ],
   "source": [
    "mylist=[]\n",
    "for i in range(0,100):\n",
    "    mylist.append(i)\n",
    "print(mylist[::-1])\n"
   ]
  },
  {
   "cell_type": "markdown",
   "id": "7833b9e4-d2a2-41bf-ae8d-01278bd4462f",
   "metadata": {},
   "source": [
    "## s=input()\n",
    "s1=s[::-1]\n",
    "print(s1)"
   ]
  },
  {
   "cell_type": "code",
   "execution_count": null,
   "id": "8281c099-4883-4a76-b66c-4e3683ed9839",
   "metadata": {},
   "outputs": [],
   "source": [
    "s=input()\n",
    "s1=s[::-1]\n",
    "print(s1)"
   ]
  },
  {
   "cell_type": "markdown",
   "id": "18c91a99-c07b-44aa-9a09-23bec7581e2b",
   "metadata": {},
   "source": [
    "# s=input()\n",
    "s1=s[::-1]\n",
    "print(s1)"
   ]
  },
  {
   "cell_type": "code",
   "execution_count": 1,
   "id": "9f16eae1-afc9-42c6-9c2d-05818cad4643",
   "metadata": {},
   "outputs": [],
   "source": [
    "def even_check(number):\n",
    "    return number % 2 == 0"
   ]
  },
  {
   "cell_type": "code",
   "execution_count": 3,
   "id": "8cb801cf-3fc0-42d8-9342-6651f2bef26a",
   "metadata": {},
   "outputs": [
    {
     "data": {
      "text/plain": [
       "False"
      ]
     },
     "execution_count": 3,
     "metadata": {},
     "output_type": "execute_result"
    }
   ],
   "source": [
    "even_check(21)"
   ]
  },
  {
   "cell_type": "code",
   "execution_count": 8,
   "id": "96b08cfa-3eb2-4e14-a4e1-65d794ef6a6b",
   "metadata": {},
   "outputs": [],
   "source": [
    "def check_list(num_list):\n",
    "\n",
    "    for number in num_list:\n",
    "        if number % 2 == 0:\n",
    "            return True\n",
    "        else:\n",
    "            pass\n",
    "    \n",
    "    return False"
   ]
  },
  {
   "cell_type": "code",
   "execution_count": 9,
   "id": "7558865c-a80c-43b2-8536-c75ad01cdbae",
   "metadata": {},
   "outputs": [
    {
     "data": {
      "text/plain": [
       "False"
      ]
     },
     "execution_count": 9,
     "metadata": {},
     "output_type": "execute_result"
    }
   ],
   "source": [
    "check_list([1,5,3])"
   ]
  },
  {
   "cell_type": "code",
   "execution_count": 10,
   "id": "92eca59d-80a4-4bc4-920c-009a393b97f3",
   "metadata": {},
   "outputs": [
    {
     "data": {
      "text/plain": [
       "False"
      ]
     },
     "execution_count": 10,
     "metadata": {},
     "output_type": "execute_result"
    }
   ],
   "source": [
    "check_list([1,3,5])"
   ]
  },
  {
   "cell_type": "code",
   "execution_count": 11,
   "id": "04832e80-0727-4f31-adb8-d358ce600667",
   "metadata": {},
   "outputs": [],
   "source": [
    "def check_list(num_list):\n",
    "#return all even numbers\n",
    "    even_num=[]\n",
    "    for number in num_list:\n",
    "        if number % 2 == 0:\n",
    "            even_num.append(number)\n",
    "        else:\n",
    "            pass\n",
    "    return even_num\n",
    "    \n"
   ]
  },
  {
   "cell_type": "code",
   "execution_count": 13,
   "id": "874e1ab7-5200-4060-a620-707362a18aeb",
   "metadata": {},
   "outputs": [
    {
     "data": {
      "text/plain": [
       "[2, 4]"
      ]
     },
     "execution_count": 13,
     "metadata": {},
     "output_type": "execute_result"
    }
   ],
   "source": [
    "check_list([1,2,3,4,5])"
   ]
  },
  {
   "cell_type": "code",
   "execution_count": 14,
   "id": "950683b1-c99f-48dd-9d73-15d8238394cd",
   "metadata": {},
   "outputs": [
    {
     "data": {
      "text/plain": [
       "[]"
      ]
     },
     "execution_count": 14,
     "metadata": {},
     "output_type": "execute_result"
    }
   ],
   "source": [
    "check_list([1,3,5])"
   ]
  },
  {
   "cell_type": "code",
   "execution_count": 15,
   "id": "9018958e-fa89-4872-8e83-bcd78c4b71b1",
   "metadata": {},
   "outputs": [],
   "source": [
    "stock_prices = [('apple',200),('google',400),('msft',100)]"
   ]
  },
  {
   "cell_type": "code",
   "execution_count": 16,
   "id": "48648c69-0136-442c-9e5b-d662c3a35cac",
   "metadata": {},
   "outputs": [
    {
     "name": "stdout",
     "output_type": "stream",
     "text": [
      "('apple', 200)\n",
      "('google', 400)\n",
      "('msft', 100)\n"
     ]
    }
   ],
   "source": [
    "for item in stock_prices:\n",
    "    print(item)"
   ]
  },
  {
   "cell_type": "code",
   "execution_count": 17,
   "id": "2631777b-b838-45fd-abc9-ac3097eb6999",
   "metadata": {},
   "outputs": [
    {
     "name": "stdout",
     "output_type": "stream",
     "text": [
      "apple\n",
      "google\n",
      "msft\n"
     ]
    }
   ],
   "source": [
    "for ticker,price in stock_prices:\n",
    "    print(ticker)"
   ]
  },
  {
   "cell_type": "code",
   "execution_count": 18,
   "id": "d4f044cb-3555-41fe-bd03-589b1835a996",
   "metadata": {},
   "outputs": [
    {
     "name": "stdout",
     "output_type": "stream",
     "text": [
      "220.0\n",
      "440.0\n",
      "110.0\n"
     ]
    }
   ],
   "source": [
    "for ticker,price in stock_prices:\n",
    "    print(price+(0.1*price))"
   ]
  },
  {
   "cell_type": "code",
   "execution_count": 19,
   "id": "ffa55951-f32d-4cec-88a2-52a6f7a416ce",
   "metadata": {},
   "outputs": [],
   "source": [
    "work_hours = [('abby',100),('Billy',400),('cassie',800)]"
   ]
  },
  {
   "cell_type": "code",
   "execution_count": 20,
   "id": "0f59a2b3-ca2f-4a02-b23d-de30f9632ca4",
   "metadata": {},
   "outputs": [],
   "source": [
    "def emp_check(work_hours):\n",
    "\n",
    "    current_max=0\n",
    "    emp_of_month=''\n",
    "\n",
    "    for emp,hours in work_hours:\n",
    "        if hours > current_max:\n",
    "            current_max=hours\n",
    "            emp_of_month=emp\n",
    "        else:\n",
    "            pass\n",
    "\n",
    "    return (emp_of_month, current_max)"
   ]
  },
  {
   "cell_type": "code",
   "execution_count": 24,
   "id": "e78bacc9-ca04-4835-bb2f-1840093a0e34",
   "metadata": {},
   "outputs": [],
   "source": [
    "name,hours = emp_check(work_hours)"
   ]
  },
  {
   "cell_type": "code",
   "execution_count": 25,
   "id": "eabde77e-a4d0-43f4-acd5-1c0137a68668",
   "metadata": {},
   "outputs": [
    {
     "data": {
      "text/plain": [
       "'cassie'"
      ]
     },
     "execution_count": 25,
     "metadata": {},
     "output_type": "execute_result"
    }
   ],
   "source": [
    "name"
   ]
  },
  {
   "cell_type": "code",
   "execution_count": 26,
   "id": "4f186643-6ee8-4ee2-bc70-9ee4dcd687c3",
   "metadata": {},
   "outputs": [
    {
     "data": {
      "text/plain": [
       "800"
      ]
     },
     "execution_count": 26,
     "metadata": {},
     "output_type": "execute_result"
    }
   ],
   "source": [
    "hours"
   ]
  },
  {
   "cell_type": "code",
   "execution_count": 27,
   "id": "42451662-6b54-431a-a5fd-83d1c9f207e8",
   "metadata": {},
   "outputs": [],
   "source": [
    "example = [1,2,3,4,5,6,7]"
   ]
  },
  {
   "cell_type": "code",
   "execution_count": 28,
   "id": "1019920f-d5d1-4bcc-a788-a39e7109b1eb",
   "metadata": {},
   "outputs": [],
   "source": [
    "from random import shuffle"
   ]
  },
  {
   "cell_type": "code",
   "execution_count": 29,
   "id": "71e91e78-c32d-4d3e-a96c-2b4eac2683c6",
   "metadata": {},
   "outputs": [],
   "source": [
    "shuffle(example)"
   ]
  },
  {
   "cell_type": "code",
   "execution_count": 30,
   "id": "7164604e-0b5a-4b95-95f6-9745dc780415",
   "metadata": {},
   "outputs": [
    {
     "data": {
      "text/plain": [
       "[5, 1, 7, 2, 4, 3, 6]"
      ]
     },
     "execution_count": 30,
     "metadata": {},
     "output_type": "execute_result"
    }
   ],
   "source": [
    "example"
   ]
  },
  {
   "cell_type": "code",
   "execution_count": 31,
   "id": "84ee758c-4810-4bf2-aeff-ee3dec05408e",
   "metadata": {},
   "outputs": [],
   "source": [
    "def shuffle_list(mylist):\n",
    "    shuffle(mylist)\n",
    "    return mylist"
   ]
  },
  {
   "cell_type": "code",
   "execution_count": 32,
   "id": "95e647f8-7868-482d-8416-ada63f0dad68",
   "metadata": {},
   "outputs": [],
   "source": [
    "result=shuffle_list(example)"
   ]
  },
  {
   "cell_type": "code",
   "execution_count": 33,
   "id": "2d1b1610-7d07-4cea-856f-37b4436d1370",
   "metadata": {},
   "outputs": [
    {
     "data": {
      "text/plain": [
       "[4, 6, 5, 3, 2, 7, 1]"
      ]
     },
     "execution_count": 33,
     "metadata": {},
     "output_type": "execute_result"
    }
   ],
   "source": [
    "result"
   ]
  },
  {
   "cell_type": "code",
   "execution_count": 34,
   "id": "1135ea3d-0bd9-4cbe-8f9b-ca4a4688726f",
   "metadata": {},
   "outputs": [],
   "source": [
    "mylist = [' ','O',' ']"
   ]
  },
  {
   "cell_type": "code",
   "execution_count": 35,
   "id": "bd76e864-0c46-4dbb-9182-ab298a4712a5",
   "metadata": {},
   "outputs": [
    {
     "data": {
      "text/plain": [
       "['O', ' ', ' ']"
      ]
     },
     "execution_count": 35,
     "metadata": {},
     "output_type": "execute_result"
    }
   ],
   "source": [
    "shuffle_list(mylist)"
   ]
  },
  {
   "cell_type": "code",
   "execution_count": 36,
   "id": "8a5a0b49-b95e-43a4-ae45-10213c90ea86",
   "metadata": {},
   "outputs": [],
   "source": [
    "def player_guess():\n",
    "\n",
    "    guess=''\n",
    "\n",
    "    while guess not in ['0','1','2']:\n",
    "        guess = input(\"Pick a number:0,1 or 2\")\n",
    "    return int(guess)\n",
    "    "
   ]
  },
  {
   "cell_type": "markdown",
   "id": "6be3613c-253c-4cef-a466-3ce34302867f",
   "metadata": {},
   "source": [
    "## player_guess()"
   ]
  },
  {
   "cell_type": "code",
   "execution_count": null,
   "id": "7b7e7b30-f9db-439e-8c30-59c4651e4934",
   "metadata": {},
   "outputs": [],
   "source": [
    "player_guess()"
   ]
  },
  {
   "cell_type": "code",
   "execution_count": 1,
   "id": "379deb89-215b-4fbc-be1a-9cc5975a0c76",
   "metadata": {},
   "outputs": [],
   "source": [
    " def myfunc(a,b):\n",
    "\n",
    "     return sum((a,b)) * 0.05"
   ]
  },
  {
   "cell_type": "code",
   "execution_count": 3,
   "id": "4911b610-bc77-44ab-b96b-3f7e00481c23",
   "metadata": {},
   "outputs": [
    {
     "data": {
      "text/plain": [
       "5.0"
      ]
     },
     "execution_count": 3,
     "metadata": {},
     "output_type": "execute_result"
    }
   ],
   "source": [
    "myfunc(40,60)"
   ]
  },
  {
   "cell_type": "code",
   "execution_count": 11,
   "id": "52d25f6d-9e72-4bb2-85b3-19097d09f59e",
   "metadata": {},
   "outputs": [],
   "source": [
    "def myfunc(*args):\n",
    "\n",
    "    return sum(args) * 0.05"
   ]
  },
  {
   "cell_type": "code",
   "execution_count": 12,
   "id": "71d2b8e4-cadb-4921-b0a4-e6c7deee228c",
   "metadata": {},
   "outputs": [
    {
     "data": {
      "text/plain": [
       "20.0"
      ]
     },
     "execution_count": 12,
     "metadata": {},
     "output_type": "execute_result"
    }
   ],
   "source": [
    "myfunc(40,60,100,200)"
   ]
  },
  {
   "cell_type": "code",
   "execution_count": 22,
   "id": "0c766fd3-a9a9-44e0-a4ff-037baefb83d6",
   "metadata": {},
   "outputs": [],
   "source": [
    "def myfunc(**kwargs):\n",
    "    print(kwargs)\n",
    "    if 'fruit' in kwargs:\n",
    "        print('my fruit of choice is {}'.format(kwargs['fruit']))\n",
    "    else:\n",
    "        print('no fruit found')"
   ]
  },
  {
   "cell_type": "code",
   "execution_count": 23,
   "id": "102a3950-30b2-4ae7-ac69-c4d4ddce2683",
   "metadata": {},
   "outputs": [
    {
     "name": "stdout",
     "output_type": "stream",
     "text": [
      "{'fruit': 'apple', 'veggie': 'lettuce'}\n",
      "my fruit of choice is apple\n"
     ]
    }
   ],
   "source": [
    "myfunc(fruit='apple',veggie='lettuce')"
   ]
  },
  {
   "cell_type": "code",
   "execution_count": 26,
   "id": "c86575c1-ba30-4bbc-b5e7-397751d4d6e5",
   "metadata": {},
   "outputs": [],
   "source": [
    "def myfunc(*args,**kwargs):\n",
    "    print(args)\n",
    "    print(kwargs)\n",
    "    print('i would like {} {}'.format(args[0],kwargs['food']))\n"
   ]
  },
  {
   "cell_type": "code",
   "execution_count": 27,
   "id": "2738c126-6a20-4c0f-b988-11c4d58106a0",
   "metadata": {},
   "outputs": [
    {
     "name": "stdout",
     "output_type": "stream",
     "text": [
      "(10, 20, 30)\n",
      "{'fruit': 'orange', 'food': 'eggs', 'animal': 'dog'}\n",
      "i would like 10 eggs\n"
     ]
    }
   ],
   "source": [
    "myfunc(10,20,30,fruit='orange',food='eggs',animal='dog')"
   ]
  },
  {
   "cell_type": "code",
   "execution_count": 32,
   "id": "fbaf08b4-5fac-4b0b-9834-46b52f314fca",
   "metadata": {},
   "outputs": [],
   "source": [
    "def uplow(mystring):\n",
    "    result=''\n",
    "    count=1\n",
    "    for x in mystring:\n",
    "        if count % 2 == 0:\n",
    "            result=result+x.upper()\n",
    "            count=count+1\n",
    "        else:\n",
    "            result=result+x.lower()\n",
    "            count=count+1\n",
    "    return result\n",
    "            "
   ]
  },
  {
   "cell_type": "code",
   "execution_count": 33,
   "id": "fc67ce44-3783-4578-937d-a72e33ed8461",
   "metadata": {},
   "outputs": [
    {
     "data": {
      "text/plain": [
       "'hElLo'"
      ]
     },
     "execution_count": 33,
     "metadata": {},
     "output_type": "execute_result"
    }
   ],
   "source": [
    "uplow('hello')"
   ]
  },
  {
   "cell_type": "code",
   "execution_count": 38,
   "id": "754fe8b8-df98-4a69-9300-849846464bc6",
   "metadata": {},
   "outputs": [
    {
     "name": "stdout",
     "output_type": "stream",
     "text": [
      "6\n",
      "7\n",
      "8\n",
      "9\n"
     ]
    }
   ],
   "source": [
    "for x in range(6,10):\n",
    "    print(x)"
   ]
  },
  {
   "cell_type": "code",
   "execution_count": 39,
   "id": "c73cb670-1967-4199-9d13-89b5a54a1e8c",
   "metadata": {},
   "outputs": [
    {
     "ename": "SyntaxError",
     "evalue": "'return' outside function (3557702027.py, line 2)",
     "output_type": "error",
     "traceback": [
      "\u001b[0;36m  Cell \u001b[0;32mIn[39], line 2\u001b[0;36m\u001b[0m\n\u001b[0;31m    return True\u001b[0m\n\u001b[0m    ^\u001b[0m\n\u001b[0;31mSyntaxError\u001b[0m\u001b[0;31m:\u001b[0m 'return' outside function\n"
     ]
    }
   ],
   "source": [
    "if x in range(6,10):\n",
    "    "
   ]
  },
  {
   "cell_type": "code",
   "execution_count": 40,
   "id": "2c25217f-144e-4c9b-a69c-70d6cf38d0a2",
   "metadata": {},
   "outputs": [
    {
     "data": {
      "text/plain": [
       "True"
      ]
     },
     "execution_count": 40,
     "metadata": {},
     "output_type": "execute_result"
    }
   ],
   "source": [
    "'S'.isupper()"
   ]
  },
  {
   "cell_type": "code",
   "execution_count": 44,
   "id": "8a0a0eb3-dfa0-41da-9ed5-6e60a558662b",
   "metadata": {},
   "outputs": [
    {
     "data": {
      "text/plain": [
       "'thisisanexample'"
      ]
     },
     "execution_count": 44,
     "metadata": {},
     "output_type": "execute_result"
    }
   ],
   "source": [
    "import string\n",
    "'this is an example'.replace(' ','')"
   ]
  },
  {
   "cell_type": "code",
   "execution_count": null,
   "id": "4c0870d8-2f82-4440-bdc2-99ed7c03a68a",
   "metadata": {},
   "outputs": [],
   "source": []
  }
 ],
 "metadata": {
  "kernelspec": {
   "display_name": "Python 3 (ipykernel)",
   "language": "python",
   "name": "python3"
  },
  "language_info": {
   "codemirror_mode": {
    "name": "ipython",
    "version": 3
   },
   "file_extension": ".py",
   "mimetype": "text/x-python",
   "name": "python",
   "nbconvert_exporter": "python",
   "pygments_lexer": "ipython3",
   "version": "3.12.7"
  }
 },
 "nbformat": 4,
 "nbformat_minor": 5
}
