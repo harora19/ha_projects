{
 "cells": [
  {
   "cell_type": "code",
   "execution_count": 1,
   "id": "dcaaa052-06cd-4ca9-9e81-c5412bc243ab",
   "metadata": {},
   "outputs": [],
   "source": [
    "def say_hello():\n",
    "    print(\"hello\")\n",
    "    print(\"how are\")\n",
    "    print(\"you\")"
   ]
  },
  {
   "cell_type": "code",
   "execution_count": 2,
   "id": "c3d52ee6-299a-49cd-a239-54c4d2b5ff56",
   "metadata": {},
   "outputs": [
    {
     "name": "stdout",
     "output_type": "stream",
     "text": [
      "hello\n",
      "how are\n",
      "you\n"
     ]
    }
   ],
   "source": [
    "say_hello()"
   ]
  },
  {
   "cell_type": "code",
   "execution_count": 14,
   "id": "697e4e24-b27a-4788-8620-5255ef81a523",
   "metadata": {},
   "outputs": [],
   "source": [
    "def say_hello(name='Default'):\n",
    "    print(f'hello {name}')"
   ]
  },
  {
   "cell_type": "code",
   "execution_count": 16,
   "id": "e6c9f638-3d57-46d1-bf93-d71600a528d9",
   "metadata": {
    "scrolled": true
   },
   "outputs": [
    {
     "name": "stdout",
     "output_type": "stream",
     "text": [
      "hello Default\n"
     ]
    }
   ],
   "source": [
    "say_hello()"
   ]
  },
  {
   "cell_type": "code",
   "execution_count": 17,
   "id": "851c944d-d533-45a4-bf9a-e026c0401c88",
   "metadata": {},
   "outputs": [],
   "source": [
    "def add_num(num1,num2):\n",
    "    return num1+num2"
   ]
  },
  {
   "cell_type": "code",
   "execution_count": 19,
   "id": "1a53cb7b-dafe-4d51-b575-2fa14530f836",
   "metadata": {},
   "outputs": [],
   "source": [
    "result = add_num(10,20)"
   ]
  },
  {
   "cell_type": "code",
   "execution_count": 20,
   "id": "4751f0de-c9a0-4980-9eaf-ae695f36f897",
   "metadata": {
    "scrolled": true
   },
   "outputs": [
    {
     "data": {
      "text/plain": [
       "30"
      ]
     },
     "execution_count": 20,
     "metadata": {},
     "output_type": "execute_result"
    }
   ],
   "source": [
    "result"
   ]
  },
  {
   "cell_type": "code",
   "execution_count": 21,
   "id": "f1c8ccc7-0aca-434a-a442-a1ae0311bf05",
   "metadata": {},
   "outputs": [],
   "source": [
    "def print_result(a,b):\n",
    "    print(a+b)"
   ]
  },
  {
   "cell_type": "code",
   "execution_count": 22,
   "id": "24dac8b7-d93f-4d19-a7a8-eff0018e58be",
   "metadata": {},
   "outputs": [],
   "source": [
    "def return_result(a,b):\n",
    "    return a+b"
   ]
  },
  {
   "cell_type": "code",
   "execution_count": 24,
   "id": "856f6628-a39c-4aae-ba6f-e099162588ec",
   "metadata": {},
   "outputs": [
    {
     "name": "stdout",
     "output_type": "stream",
     "text": [
      "30\n"
     ]
    }
   ],
   "source": [
    "result = print_result(10,20)"
   ]
  },
  {
   "cell_type": "code",
   "execution_count": 26,
   "id": "db864652-91ee-4d10-b595-fc1ae2c3af18",
   "metadata": {},
   "outputs": [
    {
     "data": {
      "text/plain": [
       "NoneType"
      ]
     },
     "execution_count": 26,
     "metadata": {},
     "output_type": "execute_result"
    }
   ],
   "source": [
    "type(result)"
   ]
  },
  {
   "cell_type": "code",
   "execution_count": 28,
   "id": "964164e9-cc6d-4c36-8f3e-4e58c0172677",
   "metadata": {
    "scrolled": true
   },
   "outputs": [],
   "source": [
    "result = return_result(10,20)"
   ]
  },
  {
   "cell_type": "code",
   "execution_count": 29,
   "id": "6ac65094-67c7-48b4-8a15-1295b66660eb",
   "metadata": {},
   "outputs": [
    {
     "data": {
      "text/plain": [
       "30"
      ]
     },
     "execution_count": 29,
     "metadata": {},
     "output_type": "execute_result"
    }
   ],
   "source": [
    "result"
   ]
  },
  {
   "cell_type": "code",
   "execution_count": 33,
   "id": "32d2e42d-187f-42d7-abe0-e983335de271",
   "metadata": {},
   "outputs": [
    {
     "name": "stdout",
     "output_type": "stream",
     "text": [
      "[99, 98, 97, 96, 95, 94, 93, 92, 91, 90, 89, 88, 87, 86, 85, 84, 83, 82, 81, 80, 79, 78, 77, 76, 75, 74, 73, 72, 71, 70, 69, 68, 67, 66, 65, 64, 63, 62, 61, 60, 59, 58, 57, 56, 55, 54, 53, 52, 51, 50, 49, 48, 47, 46, 45, 44, 43, 42, 41, 40, 39, 38, 37, 36, 35, 34, 33, 32, 31, 30, 29, 28, 27, 26, 25, 24, 23, 22, 21, 20, 19, 18, 17, 16, 15, 14, 13, 12, 11, 10, 9, 8, 7, 6, 5, 4, 3, 2, 1, 0]\n"
     ]
    }
   ],
   "source": [
    "mylist=[]\n",
    "for i in range(0,100):\n",
    "    mylist.append(i)\n",
    "print(mylist[::-1])\n"
   ]
  },
  {
   "cell_type": "markdown",
   "id": "7833b9e4-d2a2-41bf-ae8d-01278bd4462f",
   "metadata": {},
   "source": [
    "## s=input()\n",
    "s1=s[::-1]\n",
    "print(s1)"
   ]
  },
  {
   "cell_type": "code",
   "execution_count": null,
   "id": "8281c099-4883-4a76-b66c-4e3683ed9839",
   "metadata": {},
   "outputs": [],
   "source": [
    "s=input()\n",
    "s1=s[::-1]\n",
    "print(s1)"
   ]
  },
  {
   "cell_type": "markdown",
   "id": "18c91a99-c07b-44aa-9a09-23bec7581e2b",
   "metadata": {},
   "source": [
    "# s=input()\n",
    "s1=s[::-1]\n",
    "print(s1)"
   ]
  },
  {
   "cell_type": "code",
   "execution_count": 1,
   "id": "9f16eae1-afc9-42c6-9c2d-05818cad4643",
   "metadata": {},
   "outputs": [],
   "source": [
    "def even_check(number):\n",
    "    return number % 2 == 0"
   ]
  },
  {
   "cell_type": "code",
   "execution_count": 3,
   "id": "8cb801cf-3fc0-42d8-9342-6651f2bef26a",
   "metadata": {},
   "outputs": [
    {
     "data": {
      "text/plain": [
       "False"
      ]
     },
     "execution_count": 3,
     "metadata": {},
     "output_type": "execute_result"
    }
   ],
   "source": [
    "even_check(21)"
   ]
  },
  {
   "cell_type": "code",
   "execution_count": 8,
   "id": "96b08cfa-3eb2-4e14-a4e1-65d794ef6a6b",
   "metadata": {},
   "outputs": [],
   "source": [
    "def check_list(num_list):\n",
    "\n",
    "    for number in num_list:\n",
    "        if number % 2 == 0:\n",
    "            return True\n",
    "        else:\n",
    "            pass\n",
    "    \n",
    "    return False"
   ]
  },
  {
   "cell_type": "code",
   "execution_count": 9,
   "id": "7558865c-a80c-43b2-8536-c75ad01cdbae",
   "metadata": {},
   "outputs": [
    {
     "data": {
      "text/plain": [
       "False"
      ]
     },
     "execution_count": 9,
     "metadata": {},
     "output_type": "execute_result"
    }
   ],
   "source": [
    "check_list([1,5,3])"
   ]
  },
  {
   "cell_type": "code",
   "execution_count": 10,
   "id": "92eca59d-80a4-4bc4-920c-009a393b97f3",
   "metadata": {},
   "outputs": [
    {
     "data": {
      "text/plain": [
       "False"
      ]
     },
     "execution_count": 10,
     "metadata": {},
     "output_type": "execute_result"
    }
   ],
   "source": [
    "check_list([1,3,5])"
   ]
  },
  {
   "cell_type": "code",
   "execution_count": null,
   "id": "04832e80-0727-4f31-adb8-d358ce600667",
   "metadata": {},
   "outputs": [],
   "source": [
    "def check_list(num_list):\n",
    "#return all even numbers\n",
    "    even_num=[]\n",
    "    for number in num_list:\n",
    "        if number % 2 == 0:\n",
    "            even_num.append(number)\n",
    "        else:\n",
    "            pass\n",
    "    return even_num\n",
    "    \n"
   ]
  }
 ],
 "metadata": {
  "kernelspec": {
   "display_name": "Python 3 (ipykernel)",
   "language": "python",
   "name": "python3"
  },
  "language_info": {
   "codemirror_mode": {
    "name": "ipython",
    "version": 3
   },
   "file_extension": ".py",
   "mimetype": "text/x-python",
   "name": "python",
   "nbconvert_exporter": "python",
   "pygments_lexer": "ipython3",
   "version": "3.12.7"
  }
 },
 "nbformat": 4,
 "nbformat_minor": 5
}
