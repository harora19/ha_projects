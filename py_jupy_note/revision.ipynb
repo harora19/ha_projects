{
 "cells": [
  {
   "cell_type": "code",
   "execution_count": 1,
   "id": "1178892b-f586-4b9d-be68-04be65a8c076",
   "metadata": {},
   "outputs": [],
   "source": [
    "mystring=\"hello world\""
   ]
  },
  {
   "cell_type": "code",
   "execution_count": 4,
   "id": "ca1cc03c-253a-4834-b9c8-88400849b471",
   "metadata": {},
   "outputs": [
    {
     "data": {
      "text/plain": [
       "11"
      ]
     },
     "execution_count": 4,
     "metadata": {},
     "output_type": "execute_result"
    }
   ],
   "source": [
    "len(mystring)"
   ]
  },
  {
   "cell_type": "code",
   "execution_count": 3,
   "id": "c7f8dd7f-21d5-4c61-9a6e-a58f38b547cb",
   "metadata": {},
   "outputs": [
    {
     "data": {
      "text/plain": [
       "'h'"
      ]
     },
     "execution_count": 3,
     "metadata": {},
     "output_type": "execute_result"
    }
   ],
   "source": [
    "mystring[0]"
   ]
  },
  {
   "cell_type": "code",
   "execution_count": 7,
   "id": "e942c944-6677-4d8d-9db2-1b35847c3341",
   "metadata": {},
   "outputs": [
    {
     "data": {
      "text/plain": [
       "'l'"
      ]
     },
     "execution_count": 7,
     "metadata": {},
     "output_type": "execute_result"
    }
   ],
   "source": [
    "mystring[-2]"
   ]
  },
  {
   "cell_type": "code",
   "execution_count": 10,
   "id": "142e9c97-c062-4e0b-8043-a9ed36f3e424",
   "metadata": {},
   "outputs": [],
   "source": [
    "mystring=\"abcdefghijk\""
   ]
  },
  {
   "cell_type": "code",
   "execution_count": 11,
   "id": "0adb71fa-339b-4ee9-b6cf-8fc00e16cb90",
   "metadata": {},
   "outputs": [
    {
     "data": {
      "text/plain": [
       "'abcdefghijk'"
      ]
     },
     "execution_count": 11,
     "metadata": {},
     "output_type": "execute_result"
    }
   ],
   "source": [
    "mystring"
   ]
  },
  {
   "cell_type": "code",
   "execution_count": 13,
   "id": "347089d2-51c2-4272-ad44-b80793421077",
   "metadata": {},
   "outputs": [
    {
     "data": {
      "text/plain": [
       "'cdefghijk'"
      ]
     },
     "execution_count": 13,
     "metadata": {},
     "output_type": "execute_result"
    }
   ],
   "source": [
    "mystring[2:]"
   ]
  },
  {
   "cell_type": "code",
   "execution_count": 14,
   "id": "65983d2a-1861-4d22-b2c1-33eab88a3296",
   "metadata": {},
   "outputs": [
    {
     "data": {
      "text/plain": [
       "'abc'"
      ]
     },
     "execution_count": 14,
     "metadata": {},
     "output_type": "execute_result"
    }
   ],
   "source": [
    "mystring[:3]"
   ]
  },
  {
   "cell_type": "code",
   "execution_count": 17,
   "id": "b91b7168-adbd-4f08-b6b6-c0b5f2d70144",
   "metadata": {},
   "outputs": [
    {
     "data": {
      "text/plain": [
       "'def'"
      ]
     },
     "execution_count": 17,
     "metadata": {},
     "output_type": "execute_result"
    }
   ],
   "source": [
    "mystring[3:6]"
   ]
  },
  {
   "cell_type": "code",
   "execution_count": 18,
   "id": "e32abfc0-2c61-49bb-bf11-59321e89ef91",
   "metadata": {},
   "outputs": [
    {
     "data": {
      "text/plain": [
       "'bc'"
      ]
     },
     "execution_count": 18,
     "metadata": {},
     "output_type": "execute_result"
    }
   ],
   "source": [
    "mystring[1:3]"
   ]
  },
  {
   "cell_type": "code",
   "execution_count": 26,
   "id": "736689ec-8c59-4de2-80e1-fab357056663",
   "metadata": {},
   "outputs": [
    {
     "data": {
      "text/plain": [
       "'kjihgfedcba'"
      ]
     },
     "execution_count": 26,
     "metadata": {},
     "output_type": "execute_result"
    }
   ],
   "source": [
    "mystring[::-1]"
   ]
  },
  {
   "cell_type": "code",
   "execution_count": 24,
   "id": "7313ca79-956b-4770-b51d-123328ed8655",
   "metadata": {},
   "outputs": [
    {
     "data": {
      "text/plain": [
       "'acegik'"
      ]
     },
     "execution_count": 24,
     "metadata": {},
     "output_type": "execute_result"
    }
   ],
   "source": [
    "mystring[::2]"
   ]
  },
  {
   "cell_type": "code",
   "execution_count": 25,
   "id": "9d778f23-a290-49fc-af1a-fe215f0a9cba",
   "metadata": {},
   "outputs": [
    {
     "data": {
      "text/plain": [
       "'ceg'"
      ]
     },
     "execution_count": 25,
     "metadata": {},
     "output_type": "execute_result"
    }
   ],
   "source": [
    "mystring[2:7:2]"
   ]
  },
  {
   "cell_type": "code",
   "execution_count": 27,
   "id": "f725fc0f-0ccc-4386-8769-5125aad029f9",
   "metadata": {},
   "outputs": [],
   "source": [
    "test_string=\"Hello World\""
   ]
  },
  {
   "cell_type": "code",
   "execution_count": 28,
   "id": "ebc53642-5397-409f-89a5-617cc5b4db7b",
   "metadata": {},
   "outputs": [
    {
     "data": {
      "text/plain": [
       "'dlroW olleH'"
      ]
     },
     "execution_count": 28,
     "metadata": {},
     "output_type": "execute_result"
    }
   ],
   "source": [
    "test_string[::-1]"
   ]
  },
  {
   "cell_type": "code",
   "execution_count": 29,
   "id": "6d79f612-69d3-4672-be9a-c8aa422ba2d0",
   "metadata": {},
   "outputs": [
    {
     "data": {
      "text/plain": [
       "'r'"
      ]
     },
     "execution_count": 29,
     "metadata": {},
     "output_type": "execute_result"
    }
   ],
   "source": [
    "'Hello World'[8]"
   ]
  },
  {
   "cell_type": "code",
   "execution_count": 30,
   "id": "c64155b8-5f7f-4b4e-8ff9-29a4aae97714",
   "metadata": {},
   "outputs": [
    {
     "data": {
      "text/plain": [
       "'dlroW olleH'"
      ]
     },
     "execution_count": 30,
     "metadata": {},
     "output_type": "execute_result"
    }
   ],
   "source": [
    "'Hello World'[::-1]"
   ]
  },
  {
   "cell_type": "code",
   "execution_count": 32,
   "id": "fc9b8747-8a7c-4cc4-a361-940ef7ab493c",
   "metadata": {},
   "outputs": [
    {
     "data": {
      "text/plain": [
       "'ink'"
      ]
     },
     "execution_count": 32,
     "metadata": {},
     "output_type": "execute_result"
    }
   ],
   "source": [
    "'tinker'[1:4]"
   ]
  },
  {
   "cell_type": "code",
   "execution_count": 33,
   "id": "5149afc8-76ee-4fe8-b596-8ea7681b7c66",
   "metadata": {},
   "outputs": [],
   "source": [
    "name = \"Sam\""
   ]
  },
  {
   "cell_type": "code",
   "execution_count": 34,
   "id": "bac18d48-fd28-4cc4-800b-8d182fc49d67",
   "metadata": {},
   "outputs": [],
   "source": [
    "name = \"Pam\""
   ]
  },
  {
   "cell_type": "code",
   "execution_count": 35,
   "id": "ad81162e-c81f-4f65-a7b8-6a39ff275798",
   "metadata": {},
   "outputs": [
    {
     "data": {
      "text/plain": [
       "'Pam'"
      ]
     },
     "execution_count": 35,
     "metadata": {},
     "output_type": "execute_result"
    }
   ],
   "source": [
    "name"
   ]
  },
  {
   "cell_type": "code",
   "execution_count": 36,
   "id": "f882c35a-f5c8-484f-a37e-70d31869e0c5",
   "metadata": {},
   "outputs": [
    {
     "data": {
      "text/plain": [
       "'am'"
      ]
     },
     "execution_count": 36,
     "metadata": {},
     "output_type": "execute_result"
    }
   ],
   "source": [
    "name[1:]"
   ]
  },
  {
   "cell_type": "code",
   "execution_count": 37,
   "id": "522a448b-70db-4bce-93e9-0343c5488f02",
   "metadata": {},
   "outputs": [],
   "source": [
    "last_letters = name[1:]"
   ]
  },
  {
   "cell_type": "code",
   "execution_count": 38,
   "id": "dbc6b7fe-f5cf-4292-bce7-e218e69f7c91",
   "metadata": {},
   "outputs": [
    {
     "data": {
      "text/plain": [
       "'am'"
      ]
     },
     "execution_count": 38,
     "metadata": {},
     "output_type": "execute_result"
    }
   ],
   "source": [
    "last_letters"
   ]
  },
  {
   "cell_type": "code",
   "execution_count": 39,
   "id": "ee1c4b58-8991-4900-a319-374683bb3b53",
   "metadata": {},
   "outputs": [
    {
     "data": {
      "text/plain": [
       "'Pam'"
      ]
     },
     "execution_count": 39,
     "metadata": {},
     "output_type": "execute_result"
    }
   ],
   "source": [
    "'P' + last_letters"
   ]
  },
  {
   "cell_type": "code",
   "execution_count": 40,
   "id": "59594794-d8bf-4d80-b0ec-247f5ac363a7",
   "metadata": {},
   "outputs": [],
   "source": [
    "x = \"hello World\""
   ]
  },
  {
   "cell_type": "code",
   "execution_count": 45,
   "id": "aa3c5632-2575-4fdd-bf1e-2ed18ac68484",
   "metadata": {},
   "outputs": [],
   "source": [
    "x = x + \" it is beautiful outside\"\n"
   ]
  },
  {
   "cell_type": "code",
   "execution_count": 46,
   "id": "04ec57de-a711-415a-bd2e-d8da261c0589",
   "metadata": {},
   "outputs": [
    {
     "data": {
      "text/plain": [
       "'hello World it is beautiful outside it is beautiful outside'"
      ]
     },
     "execution_count": 46,
     "metadata": {},
     "output_type": "execute_result"
    }
   ],
   "source": [
    "x"
   ]
  },
  {
   "cell_type": "code",
   "execution_count": 47,
   "id": "8a9718b1-9534-4ffe-861e-52ff25b7f280",
   "metadata": {},
   "outputs": [],
   "source": [
    "letter = 'z'"
   ]
  },
  {
   "cell_type": "code",
   "execution_count": 48,
   "id": "386205f6-49eb-4d58-93da-f0ae25c255fc",
   "metadata": {},
   "outputs": [
    {
     "data": {
      "text/plain": [
       "'zzzzzzzzzz'"
      ]
     },
     "execution_count": 48,
     "metadata": {},
     "output_type": "execute_result"
    }
   ],
   "source": [
    "letter *10"
   ]
  },
  {
   "cell_type": "code",
   "execution_count": 51,
   "id": "37a59afe-4926-4eb5-bff8-3a20c1ffd16f",
   "metadata": {},
   "outputs": [],
   "source": [
    "x = \"Hello World\""
   ]
  },
  {
   "cell_type": "code",
   "execution_count": 52,
   "id": "729706bd-4f2f-4dce-8a79-4a0bd71049ff",
   "metadata": {},
   "outputs": [
    {
     "data": {
      "text/plain": [
       "'Hello world'"
      ]
     },
     "execution_count": 52,
     "metadata": {},
     "output_type": "execute_result"
    }
   ],
   "source": [
    "x.capitalize()"
   ]
  },
  {
   "cell_type": "code",
   "execution_count": 53,
   "id": "6c504753-ebdf-4068-b912-9672d2b227ea",
   "metadata": {},
   "outputs": [
    {
     "data": {
      "text/plain": [
       "'HELLO WORLD'"
      ]
     },
     "execution_count": 53,
     "metadata": {},
     "output_type": "execute_result"
    }
   ],
   "source": [
    "x.upper()"
   ]
  },
  {
   "cell_type": "code",
   "execution_count": 54,
   "id": "c7344491-f83a-4941-a5f2-303581e2581f",
   "metadata": {},
   "outputs": [
    {
     "data": {
      "text/plain": [
       "'Hello World'"
      ]
     },
     "execution_count": 54,
     "metadata": {},
     "output_type": "execute_result"
    }
   ],
   "source": [
    "x"
   ]
  },
  {
   "cell_type": "code",
   "execution_count": 55,
   "id": "0a4b3bdc-1666-4e6a-a554-dbad26920f97",
   "metadata": {},
   "outputs": [
    {
     "data": {
      "text/plain": [
       "'hello world'"
      ]
     },
     "execution_count": 55,
     "metadata": {},
     "output_type": "execute_result"
    }
   ],
   "source": [
    "x.lower()"
   ]
  },
  {
   "cell_type": "code",
   "execution_count": 56,
   "id": "569ae0d1-9214-464b-9136-cdf83ec4be33",
   "metadata": {},
   "outputs": [
    {
     "data": {
      "text/plain": [
       "['Hello', 'World']"
      ]
     },
     "execution_count": 56,
     "metadata": {},
     "output_type": "execute_result"
    }
   ],
   "source": [
    "x.split()"
   ]
  },
  {
   "cell_type": "code",
   "execution_count": 57,
   "id": "756aef1f-58cc-4ab6-9e06-84ce1fc95a91",
   "metadata": {},
   "outputs": [],
   "source": [
    "x = 'Hi this is a string'"
   ]
  },
  {
   "cell_type": "code",
   "execution_count": 59,
   "id": "cc83adfa-3f84-4223-8555-807f6f8768fa",
   "metadata": {},
   "outputs": [
    {
     "data": {
      "text/plain": [
       "['Hi', 'this', 'is', 'a', 'string']"
      ]
     },
     "execution_count": 59,
     "metadata": {},
     "output_type": "execute_result"
    }
   ],
   "source": [
    "x.split()"
   ]
  },
  {
   "cell_type": "code",
   "execution_count": 62,
   "id": "b1663780-cbf8-4a3f-8253-1f5510e4bb97",
   "metadata": {},
   "outputs": [
    {
     "name": "stdout",
     "output_type": "stream",
     "text": [
      "The fox fox fox\n"
     ]
    }
   ],
   "source": [
    "print('The {0} {0} {0}'.format('fox','brown','quick'))"
   ]
  },
  {
   "cell_type": "code",
   "execution_count": 63,
   "id": "2f9cdfd1-07fb-4f1d-8975-47331aac402a",
   "metadata": {},
   "outputs": [
    {
     "name": "stdout",
     "output_type": "stream",
     "text": [
      "The quick brown fox\n"
     ]
    }
   ],
   "source": [
    "print('The {q} {b} {f}'.format(f='fox',b='brown',q='quick'))"
   ]
  },
  {
   "cell_type": "code",
   "execution_count": 64,
   "id": "6a5d7d1c-dcf8-4c75-b27c-f8b92e182918",
   "metadata": {},
   "outputs": [
    {
     "name": "stdout",
     "output_type": "stream",
     "text": [
      "The fox brown quick\n"
     ]
    }
   ],
   "source": [
    "print('The {} {} {}'.format('fox','brown','quick'))"
   ]
  },
  {
   "cell_type": "code",
   "execution_count": 65,
   "id": "9ac5f0af-fa1d-4760-884b-9bf8d466e537",
   "metadata": {},
   "outputs": [],
   "source": [
    "result = 100/777"
   ]
  },
  {
   "cell_type": "code",
   "execution_count": 66,
   "id": "4bdaa76b-7d1e-40db-b55e-77c80c54dd5f",
   "metadata": {},
   "outputs": [
    {
     "data": {
      "text/plain": [
       "0.1287001287001287"
      ]
     },
     "execution_count": 66,
     "metadata": {},
     "output_type": "execute_result"
    }
   ],
   "source": [
    "result"
   ]
  },
  {
   "cell_type": "code",
   "execution_count": 69,
   "id": "ebb586e2-c4d3-4d96-84b9-f2bebfe1ce89",
   "metadata": {},
   "outputs": [
    {
     "name": "stdout",
     "output_type": "stream",
     "text": [
      "The result was 0.1287001287001287\n"
     ]
    }
   ],
   "source": [
    "print('The result was {}'.format(result))"
   ]
  },
  {
   "cell_type": "code",
   "execution_count": 70,
   "id": "41cfed3f-d53e-4d02-a524-be13d00ac45e",
   "metadata": {},
   "outputs": [
    {
     "name": "stdout",
     "output_type": "stream",
     "text": [
      "The result was 0.1287001287001287\n"
     ]
    }
   ],
   "source": [
    "print('The result was {r}'.format(r=result))"
   ]
  },
  {
   "cell_type": "code",
   "execution_count": 74,
   "id": "2eda4c8e-19da-4ddf-b3fe-2ff1d0d4fed9",
   "metadata": {},
   "outputs": [
    {
     "name": "stdout",
     "output_type": "stream",
     "text": [
      "The result was 0.128700\n"
     ]
    }
   ],
   "source": [
    "print('The result was {r:1.6f}'.format(r=result))"
   ]
  },
  {
   "cell_type": "code",
   "execution_count": 75,
   "id": "d6e719d9-f01f-4754-bbf7-a93447fdcb7f",
   "metadata": {},
   "outputs": [
    {
     "name": "stdout",
     "output_type": "stream",
     "text": [
      "hello, his name is Pam\n"
     ]
    }
   ],
   "source": [
    "print(f'hello, his name is {name}')"
   ]
  },
  {
   "cell_type": "code",
   "execution_count": 78,
   "id": "d0b6f011-f509-4f78-a9f7-b922ea49697a",
   "metadata": {},
   "outputs": [],
   "source": [
    "name = 'Jose'\n",
    "age = 3"
   ]
  },
  {
   "cell_type": "code",
   "execution_count": 77,
   "id": "b5b20733-fa5c-4acc-bb5a-75607bb3a41b",
   "metadata": {},
   "outputs": [
    {
     "name": "stdout",
     "output_type": "stream",
     "text": [
      "hello, his name is Jose\n"
     ]
    }
   ],
   "source": [
    "print(f'hello, his name is {name}')"
   ]
  },
  {
   "cell_type": "code",
   "execution_count": 80,
   "id": "8c254411-ae77-4566-a715-75683d188ee8",
   "metadata": {},
   "outputs": [
    {
     "name": "stdout",
     "output_type": "stream",
     "text": [
      "Jose is 3 years old\n"
     ]
    }
   ],
   "source": [
    "print(f'{name} is {age} years old')"
   ]
  },
  {
   "cell_type": "code",
   "execution_count": 81,
   "id": "883c3058-b816-495a-b94b-06353356483b",
   "metadata": {},
   "outputs": [],
   "source": [
    "my_list=[1,2,3]"
   ]
  },
  {
   "cell_type": "code",
   "execution_count": 82,
   "id": "5687bc5e-be70-4cb2-964f-432cfbab7c20",
   "metadata": {},
   "outputs": [],
   "source": [
    "my_list=['String',100,23.2]"
   ]
  },
  {
   "cell_type": "code",
   "execution_count": 84,
   "id": "f6c1d242-d60e-466f-a73f-cd43b7aa5a26",
   "metadata": {},
   "outputs": [
    {
     "data": {
      "text/plain": [
       "3"
      ]
     },
     "execution_count": 84,
     "metadata": {},
     "output_type": "execute_result"
    }
   ],
   "source": [
    "len(my_list)"
   ]
  },
  {
   "cell_type": "code",
   "execution_count": 85,
   "id": "66af7bea-cd08-42b8-97e4-9db0b580e321",
   "metadata": {},
   "outputs": [],
   "source": [
    "my_list=['one','two','three']"
   ]
  },
  {
   "cell_type": "code",
   "execution_count": 86,
   "id": "5a447e76-583e-4fc2-b7be-26a201d1fd5a",
   "metadata": {},
   "outputs": [
    {
     "data": {
      "text/plain": [
       "['one', 'two', 'three']"
      ]
     },
     "execution_count": 86,
     "metadata": {},
     "output_type": "execute_result"
    }
   ],
   "source": [
    "my_list"
   ]
  },
  {
   "cell_type": "code",
   "execution_count": 87,
   "id": "fa8c92f6-1a32-4d22-8e86-76e53963836d",
   "metadata": {},
   "outputs": [
    {
     "data": {
      "text/plain": [
       "['two', 'three']"
      ]
     },
     "execution_count": 87,
     "metadata": {},
     "output_type": "execute_result"
    }
   ],
   "source": [
    "my_list[1:]"
   ]
  },
  {
   "cell_type": "code",
   "execution_count": 88,
   "id": "cf12182f-9fda-4a97-adcc-5d12e6e3b368",
   "metadata": {},
   "outputs": [],
   "source": [
    "another_list=['four','five']"
   ]
  },
  {
   "cell_type": "code",
   "execution_count": 89,
   "id": "312d3f3c-74bc-4031-b575-d4f367b80845",
   "metadata": {},
   "outputs": [
    {
     "data": {
      "text/plain": [
       "['one', 'two', 'three', 'four', 'five']"
      ]
     },
     "execution_count": 89,
     "metadata": {},
     "output_type": "execute_result"
    }
   ],
   "source": [
    "my_list + another_list"
   ]
  },
  {
   "cell_type": "code",
   "execution_count": 91,
   "id": "0c263ab2-81d8-4052-bbca-fc7d42011c7f",
   "metadata": {},
   "outputs": [],
   "source": [
    "new_list = my_list + another_list"
   ]
  },
  {
   "cell_type": "code",
   "execution_count": 92,
   "id": "04d8719e-c7b6-40ea-b11e-8073c04bc37c",
   "metadata": {},
   "outputs": [
    {
     "data": {
      "text/plain": [
       "['one', 'two', 'three', 'four', 'five']"
      ]
     },
     "execution_count": 92,
     "metadata": {},
     "output_type": "execute_result"
    }
   ],
   "source": [
    "new_list"
   ]
  },
  {
   "cell_type": "code",
   "execution_count": 93,
   "id": "5c7d2afc-5d0f-4e56-92b8-b8afc5c4c0d7",
   "metadata": {},
   "outputs": [],
   "source": [
    "new_list[0]='ONE ALL CAPS'"
   ]
  },
  {
   "cell_type": "code",
   "execution_count": 94,
   "id": "b22671d9-2fe8-42a1-94ee-6b077343f252",
   "metadata": {},
   "outputs": [
    {
     "data": {
      "text/plain": [
       "['ONE ALL CAPS', 'two', 'three', 'four', 'five']"
      ]
     },
     "execution_count": 94,
     "metadata": {},
     "output_type": "execute_result"
    }
   ],
   "source": [
    "new_list"
   ]
  },
  {
   "cell_type": "code",
   "execution_count": 95,
   "id": "23f3b5ed-9dd7-4b2c-93f3-c57b92d4885a",
   "metadata": {},
   "outputs": [],
   "source": [
    "new_list.append('six')"
   ]
  },
  {
   "cell_type": "code",
   "execution_count": 96,
   "id": "4b368125-a71e-4fa2-bc9f-018a8e387cec",
   "metadata": {},
   "outputs": [
    {
     "data": {
      "text/plain": [
       "['ONE ALL CAPS', 'two', 'three', 'four', 'five', 'six']"
      ]
     },
     "execution_count": 96,
     "metadata": {},
     "output_type": "execute_result"
    }
   ],
   "source": [
    "new_list"
   ]
  },
  {
   "cell_type": "code",
   "execution_count": 97,
   "id": "dc9ba933-bc35-4586-b91d-fec33af048e8",
   "metadata": {},
   "outputs": [],
   "source": [
    "new_list.append('seven')"
   ]
  },
  {
   "cell_type": "code",
   "execution_count": 98,
   "id": "89378309-7235-4396-868f-157cba56a537",
   "metadata": {},
   "outputs": [
    {
     "data": {
      "text/plain": [
       "['ONE ALL CAPS', 'two', 'three', 'four', 'five', 'six', 'seven']"
      ]
     },
     "execution_count": 98,
     "metadata": {},
     "output_type": "execute_result"
    }
   ],
   "source": [
    "new_list"
   ]
  },
  {
   "cell_type": "code",
   "execution_count": 99,
   "id": "b3879816-1f55-46d0-86c8-5786877f1bc0",
   "metadata": {},
   "outputs": [
    {
     "data": {
      "text/plain": [
       "'seven'"
      ]
     },
     "execution_count": 99,
     "metadata": {},
     "output_type": "execute_result"
    }
   ],
   "source": [
    "new_list.pop()"
   ]
  },
  {
   "cell_type": "code",
   "execution_count": 100,
   "id": "ba044914-05fb-4769-b1c4-4b7dacf93d99",
   "metadata": {},
   "outputs": [
    {
     "data": {
      "text/plain": [
       "['ONE ALL CAPS', 'two', 'three', 'four', 'five', 'six']"
      ]
     },
     "execution_count": 100,
     "metadata": {},
     "output_type": "execute_result"
    }
   ],
   "source": [
    "new_list"
   ]
  },
  {
   "cell_type": "code",
   "execution_count": 101,
   "id": "145f07b3-1e3a-4d89-8622-970116559851",
   "metadata": {},
   "outputs": [],
   "source": [
    "popped_item=new_list.pop()"
   ]
  },
  {
   "cell_type": "code",
   "execution_count": 102,
   "id": "e8337927-02f8-468b-b92e-87de0431e414",
   "metadata": {},
   "outputs": [
    {
     "data": {
      "text/plain": [
       "'six'"
      ]
     },
     "execution_count": 102,
     "metadata": {},
     "output_type": "execute_result"
    }
   ],
   "source": [
    "popped_item"
   ]
  },
  {
   "cell_type": "code",
   "execution_count": 103,
   "id": "2ac26f7f-8d9b-465b-897d-79735789662b",
   "metadata": {},
   "outputs": [
    {
     "data": {
      "text/plain": [
       "['ONE ALL CAPS', 'two', 'three', 'four', 'five']"
      ]
     },
     "execution_count": 103,
     "metadata": {},
     "output_type": "execute_result"
    }
   ],
   "source": [
    "new_list"
   ]
  },
  {
   "cell_type": "code",
   "execution_count": 104,
   "id": "c6b1e13c-2aac-409b-b544-f79772a70e77",
   "metadata": {},
   "outputs": [
    {
     "data": {
      "text/plain": [
       "'ONE ALL CAPS'"
      ]
     },
     "execution_count": 104,
     "metadata": {},
     "output_type": "execute_result"
    }
   ],
   "source": [
    "new_list.pop(0)"
   ]
  },
  {
   "cell_type": "code",
   "execution_count": 105,
   "id": "06fa7954-c78b-45ea-9300-49a639a1404b",
   "metadata": {},
   "outputs": [
    {
     "data": {
      "text/plain": [
       "['two', 'three', 'four', 'five']"
      ]
     },
     "execution_count": 105,
     "metadata": {},
     "output_type": "execute_result"
    }
   ],
   "source": [
    "new_list"
   ]
  },
  {
   "cell_type": "code",
   "execution_count": 107,
   "id": "54779d09-70a6-42f0-ad04-1af8138e52b6",
   "metadata": {},
   "outputs": [],
   "source": [
    "new_list = ['a','e','x','b','c']\n",
    "num_list=[4,3,1,6,8]"
   ]
  },
  {
   "cell_type": "code",
   "execution_count": 108,
   "id": "fc53a244-759c-4494-9a1b-540599a7ed1d",
   "metadata": {},
   "outputs": [],
   "source": [
    "new_list.sort()"
   ]
  },
  {
   "cell_type": "code",
   "execution_count": 109,
   "id": "3eebe218-85dc-4dd1-8070-8a0dfd6584e2",
   "metadata": {},
   "outputs": [
    {
     "data": {
      "text/plain": [
       "['a', 'b', 'c', 'e', 'x']"
      ]
     },
     "execution_count": 109,
     "metadata": {},
     "output_type": "execute_result"
    }
   ],
   "source": [
    "new_list"
   ]
  },
  {
   "cell_type": "code",
   "execution_count": 110,
   "id": "a2dee067-5d05-4fbd-8680-342b17e6b8bb",
   "metadata": {},
   "outputs": [
    {
     "data": {
      "text/plain": [
       "[4, 3, 1, 6, 8]"
      ]
     },
     "execution_count": 110,
     "metadata": {},
     "output_type": "execute_result"
    }
   ],
   "source": [
    "num_list"
   ]
  },
  {
   "cell_type": "code",
   "execution_count": 111,
   "id": "c100ddbb-c444-43c0-b9c2-16a6faf91591",
   "metadata": {},
   "outputs": [],
   "source": [
    "num_list.sort()"
   ]
  },
  {
   "cell_type": "code",
   "execution_count": 112,
   "id": "a0cd8186-4b2d-42e4-9426-16998bd267da",
   "metadata": {},
   "outputs": [
    {
     "data": {
      "text/plain": [
       "[1, 3, 4, 6, 8]"
      ]
     },
     "execution_count": 112,
     "metadata": {},
     "output_type": "execute_result"
    }
   ],
   "source": [
    "num_list"
   ]
  },
  {
   "cell_type": "code",
   "execution_count": 113,
   "id": "3f014fd3-3c82-48a9-9879-fe508ba5c552",
   "metadata": {},
   "outputs": [],
   "source": [
    "num_list.reverse()"
   ]
  },
  {
   "cell_type": "code",
   "execution_count": 114,
   "id": "1f4d7ee5-4109-4a4c-84d9-cf19109bb035",
   "metadata": {},
   "outputs": [
    {
     "data": {
      "text/plain": [
       "[8, 6, 4, 3, 1]"
      ]
     },
     "execution_count": 114,
     "metadata": {},
     "output_type": "execute_result"
    }
   ],
   "source": [
    "num_list"
   ]
  },
  {
   "cell_type": "code",
   "execution_count": 117,
   "id": "b962cc66-8ea6-44a5-8266-a5a1da03906e",
   "metadata": {},
   "outputs": [],
   "source": [
    "my_dict = {'key1':'value1', 'key2':'value2'}"
   ]
  },
  {
   "cell_type": "code",
   "execution_count": 118,
   "id": "43e804a7-4fc6-492d-a63b-4675beb43bdf",
   "metadata": {},
   "outputs": [
    {
     "data": {
      "text/plain": [
       "'value1'"
      ]
     },
     "execution_count": 118,
     "metadata": {},
     "output_type": "execute_result"
    }
   ],
   "source": [
    "my_dict['key1']"
   ]
  },
  {
   "cell_type": "code",
   "execution_count": 119,
   "id": "9fc62fa7-99e3-442f-a34c-028c73d95700",
   "metadata": {},
   "outputs": [],
   "source": [
    "price_lookup = {'apple': 2.99, 'oranges': 1.99, 'milk': 5.8}"
   ]
  },
  {
   "cell_type": "code",
   "execution_count": 120,
   "id": "54e0530c-8911-48d3-a764-bd53c0dc0fae",
   "metadata": {},
   "outputs": [
    {
     "data": {
      "text/plain": [
       "2.99"
      ]
     },
     "execution_count": 120,
     "metadata": {},
     "output_type": "execute_result"
    }
   ],
   "source": [
    "price_lookup['apple']"
   ]
  },
  {
   "cell_type": "code",
   "execution_count": 127,
   "id": "adff8901-41f9-4100-8b70-8df7d48ed247",
   "metadata": {},
   "outputs": [],
   "source": [
    "d={'k1':123, 'k2':[0,1,2],'k3':{'insidekey':100}}"
   ]
  },
  {
   "cell_type": "code",
   "execution_count": 128,
   "id": "0a98712b-9ec7-4c55-9362-b76ea4bb93d2",
   "metadata": {},
   "outputs": [
    {
     "data": {
      "text/plain": [
       "{'insidekey': 100}"
      ]
     },
     "execution_count": 128,
     "metadata": {},
     "output_type": "execute_result"
    }
   ],
   "source": [
    "d['k3']"
   ]
  },
  {
   "cell_type": "code",
   "execution_count": 129,
   "id": "dcf38990-0351-46c1-bc35-7a375314721c",
   "metadata": {},
   "outputs": [
    {
     "data": {
      "text/plain": [
       "100"
      ]
     },
     "execution_count": 129,
     "metadata": {},
     "output_type": "execute_result"
    }
   ],
   "source": [
    "d['k3']['insidekey']"
   ]
  },
  {
   "cell_type": "code",
   "execution_count": 130,
   "id": "0a4ae801-3b2a-4d07-b26c-3677f53f6012",
   "metadata": {},
   "outputs": [
    {
     "data": {
      "text/plain": [
       "2"
      ]
     },
     "execution_count": 130,
     "metadata": {},
     "output_type": "execute_result"
    }
   ],
   "source": [
    "d['k2'][2]"
   ]
  },
  {
   "cell_type": "code",
   "execution_count": 132,
   "id": "e612b778-f93e-4d80-acc3-9a835d6d010f",
   "metadata": {},
   "outputs": [],
   "source": [
    "mylist=d['k1']"
   ]
  },
  {
   "cell_type": "code",
   "execution_count": 133,
   "id": "aa310371-42d4-4402-a13a-7bbceae56bf6",
   "metadata": {},
   "outputs": [
    {
     "data": {
      "text/plain": [
       "123"
      ]
     },
     "execution_count": 133,
     "metadata": {},
     "output_type": "execute_result"
    }
   ],
   "source": [
    "mylist"
   ]
  },
  {
   "cell_type": "code",
   "execution_count": 135,
   "id": "1375e616-fef6-4295-b59c-b87084cad308",
   "metadata": {},
   "outputs": [],
   "source": [
    "d={'key1':['a','b','c']}"
   ]
  },
  {
   "cell_type": "code",
   "execution_count": 137,
   "id": "7f15713c-7dfe-470a-bff0-72fef12ab629",
   "metadata": {},
   "outputs": [
    {
     "data": {
      "text/plain": [
       "'C'"
      ]
     },
     "execution_count": 137,
     "metadata": {},
     "output_type": "execute_result"
    }
   ],
   "source": [
    "d['key1'][2].upper()"
   ]
  },
  {
   "cell_type": "code",
   "execution_count": 138,
   "id": "99132529-5118-4976-8be6-03b944ae7ae2",
   "metadata": {},
   "outputs": [],
   "source": [
    "x={'k1':100,'k2':200}"
   ]
  },
  {
   "cell_type": "code",
   "execution_count": 140,
   "id": "6f0dac75-152e-4d72-a6fb-c8d8e6debce7",
   "metadata": {},
   "outputs": [],
   "source": [
    "x['k3']=300"
   ]
  },
  {
   "cell_type": "code",
   "execution_count": 141,
   "id": "51828216-4a69-49d9-a360-9682eae808be",
   "metadata": {},
   "outputs": [
    {
     "data": {
      "text/plain": [
       "{'k1': 100, 'k2': 200, 'k3': 300}"
      ]
     },
     "execution_count": 141,
     "metadata": {},
     "output_type": "execute_result"
    }
   ],
   "source": [
    "x"
   ]
  },
  {
   "cell_type": "code",
   "execution_count": 142,
   "id": "73e00064-d196-472e-8595-46b2df3fd6fa",
   "metadata": {},
   "outputs": [],
   "source": [
    "x['k2']=500"
   ]
  },
  {
   "cell_type": "code",
   "execution_count": 143,
   "id": "79c31e81-cdc3-4afe-ae33-339f2a6f6061",
   "metadata": {},
   "outputs": [
    {
     "data": {
      "text/plain": [
       "{'k1': 100, 'k2': 500, 'k3': 300}"
      ]
     },
     "execution_count": 143,
     "metadata": {},
     "output_type": "execute_result"
    }
   ],
   "source": [
    "x"
   ]
  },
  {
   "cell_type": "code",
   "execution_count": 147,
   "id": "c626a4fc-c883-4f4f-ba1c-ca972b431894",
   "metadata": {},
   "outputs": [],
   "source": [
    "x={'k1':100,'k2':200}"
   ]
  },
  {
   "cell_type": "code",
   "execution_count": 149,
   "id": "692ddae9-1250-46d2-a60c-fcc35d42f9d1",
   "metadata": {},
   "outputs": [
    {
     "data": {
      "text/plain": [
       "dict_keys(['k1', 'k2'])"
      ]
     },
     "execution_count": 149,
     "metadata": {},
     "output_type": "execute_result"
    }
   ],
   "source": [
    "x.keys()"
   ]
  },
  {
   "cell_type": "code",
   "execution_count": 150,
   "id": "d0488d68-3a96-4aeb-a83e-0e44494488c7",
   "metadata": {},
   "outputs": [
    {
     "data": {
      "text/plain": [
       "dict_values([100, 200])"
      ]
     },
     "execution_count": 150,
     "metadata": {},
     "output_type": "execute_result"
    }
   ],
   "source": [
    "x.values()"
   ]
  },
  {
   "cell_type": "code",
   "execution_count": 151,
   "id": "b7b8247d-f751-4deb-a01f-369c2b9e2df9",
   "metadata": {},
   "outputs": [],
   "source": [
    "t=(1,2,3)"
   ]
  },
  {
   "cell_type": "code",
   "execution_count": 152,
   "id": "e54267f0-2b3a-4f63-80b2-f8923a083fae",
   "metadata": {},
   "outputs": [
    {
     "data": {
      "text/plain": [
       "(1, 2, 3)"
      ]
     },
     "execution_count": 152,
     "metadata": {},
     "output_type": "execute_result"
    }
   ],
   "source": [
    "t"
   ]
  },
  {
   "cell_type": "code",
   "execution_count": 153,
   "id": "9fd68116-0974-4fd6-968f-e1e9140f9981",
   "metadata": {},
   "outputs": [],
   "source": [
    "t=('one',2)"
   ]
  },
  {
   "cell_type": "code",
   "execution_count": 154,
   "id": "1af1936b-0542-4d94-b326-199451b4cfe5",
   "metadata": {},
   "outputs": [
    {
     "data": {
      "text/plain": [
       "('one', 2)"
      ]
     },
     "execution_count": 154,
     "metadata": {},
     "output_type": "execute_result"
    }
   ],
   "source": [
    "t"
   ]
  },
  {
   "cell_type": "code",
   "execution_count": 155,
   "id": "14891178-fa81-4bf4-9205-9d8d8d835ada",
   "metadata": {},
   "outputs": [
    {
     "data": {
      "text/plain": [
       "'one'"
      ]
     },
     "execution_count": 155,
     "metadata": {},
     "output_type": "execute_result"
    }
   ],
   "source": [
    "t[0]"
   ]
  },
  {
   "cell_type": "code",
   "execution_count": 156,
   "id": "bd85c331-0728-4dea-a2e7-f86d3f296e0b",
   "metadata": {},
   "outputs": [],
   "source": [
    "t=('a','b','c')"
   ]
  },
  {
   "cell_type": "code",
   "execution_count": 157,
   "id": "d6af1ffd-104d-491b-8f54-176859108dfe",
   "metadata": {},
   "outputs": [
    {
     "data": {
      "text/plain": [
       "1"
      ]
     },
     "execution_count": 157,
     "metadata": {},
     "output_type": "execute_result"
    }
   ],
   "source": [
    "t.count('a')"
   ]
  },
  {
   "cell_type": "code",
   "execution_count": 158,
   "id": "bbed6224-7cfb-4411-8ee0-33acf12166fa",
   "metadata": {},
   "outputs": [
    {
     "data": {
      "text/plain": [
       "1"
      ]
     },
     "execution_count": 158,
     "metadata": {},
     "output_type": "execute_result"
    }
   ],
   "source": [
    "t.index('b')"
   ]
  },
  {
   "cell_type": "code",
   "execution_count": 160,
   "id": "ad03da23-4749-49bc-9cf5-2c05839b1c86",
   "metadata": {},
   "outputs": [],
   "source": [
    "myset = set()"
   ]
  },
  {
   "cell_type": "code",
   "execution_count": 161,
   "id": "de1d8e94-01a0-47f2-aad5-bef5cc1d7eb4",
   "metadata": {},
   "outputs": [
    {
     "data": {
      "text/plain": [
       "set()"
      ]
     },
     "execution_count": 161,
     "metadata": {},
     "output_type": "execute_result"
    }
   ],
   "source": [
    "myset"
   ]
  },
  {
   "cell_type": "code",
   "execution_count": 162,
   "id": "2a632b66-6195-4e6d-b123-9ef46257b736",
   "metadata": {},
   "outputs": [],
   "source": [
    "myset.add(1)"
   ]
  },
  {
   "cell_type": "code",
   "execution_count": 163,
   "id": "7619558a-7ae9-4494-9a53-288e63e5e008",
   "metadata": {},
   "outputs": [
    {
     "data": {
      "text/plain": [
       "{1}"
      ]
     },
     "execution_count": 163,
     "metadata": {},
     "output_type": "execute_result"
    }
   ],
   "source": [
    "myset"
   ]
  },
  {
   "cell_type": "code",
   "execution_count": 164,
   "id": "a322a19e-6f48-45a5-bf2e-ff507573d338",
   "metadata": {},
   "outputs": [],
   "source": [
    "myset.add(2)"
   ]
  },
  {
   "cell_type": "code",
   "execution_count": 165,
   "id": "9809fe99-ba0b-4770-a34f-8e3d79c7458d",
   "metadata": {},
   "outputs": [
    {
     "data": {
      "text/plain": [
       "{1, 2}"
      ]
     },
     "execution_count": 165,
     "metadata": {},
     "output_type": "execute_result"
    }
   ],
   "source": [
    "myset"
   ]
  },
  {
   "cell_type": "code",
   "execution_count": 166,
   "id": "3d9b0d02-685c-41ad-bf28-ec82f41d55a0",
   "metadata": {},
   "outputs": [],
   "source": [
    "myset.add(2)"
   ]
  },
  {
   "cell_type": "code",
   "execution_count": 167,
   "id": "60d64b8d-962f-4ae8-9a36-8fb9369540fa",
   "metadata": {},
   "outputs": [],
   "source": [
    "mylist=[1,1,1,1,2,2,2,2]"
   ]
  },
  {
   "cell_type": "code",
   "execution_count": 168,
   "id": "1a892929-6021-4787-80de-ae9addf204e5",
   "metadata": {},
   "outputs": [
    {
     "data": {
      "text/plain": [
       "{1, 2}"
      ]
     },
     "execution_count": 168,
     "metadata": {},
     "output_type": "execute_result"
    }
   ],
   "source": [
    "set(mylist)"
   ]
  },
  {
   "cell_type": "code",
   "execution_count": 169,
   "id": "6dc9a38a-6a53-473e-9dc3-76ea169c0c1a",
   "metadata": {},
   "outputs": [
    {
     "name": "stdout",
     "output_type": "stream",
     "text": [
      "Writing my_file.txt\n"
     ]
    }
   ],
   "source": [
    "%%writefile my_file.txt\n",
    "Hello this is a text file\n",
    "this is the second line\n",
    "this is the third line"
   ]
  },
  {
   "cell_type": "code",
   "execution_count": 170,
   "id": "fb136d18-a41c-490d-8a63-cc91bc59bcf3",
   "metadata": {},
   "outputs": [],
   "source": [
    "myfile=open('my_file.txt')"
   ]
  },
  {
   "cell_type": "code",
   "execution_count": 171,
   "id": "99e11aca-db3b-4c2d-9f35-8dd023f29a50",
   "metadata": {},
   "outputs": [
    {
     "data": {
      "text/plain": [
       "'/Users/haarora/Documents/hastudy/ha_learning/py_jupy_note'"
      ]
     },
     "execution_count": 171,
     "metadata": {},
     "output_type": "execute_result"
    }
   ],
   "source": [
    "pwd"
   ]
  },
  {
   "cell_type": "code",
   "execution_count": 172,
   "id": "42e93cd7-98b0-4f1f-ae94-c87a98a57add",
   "metadata": {},
   "outputs": [],
   "source": [
    "myfile=open('my_file.txt')"
   ]
  },
  {
   "cell_type": "code",
   "execution_count": 173,
   "id": "b5e6429d-05e9-43f7-aefd-e7ee72aa4a9b",
   "metadata": {},
   "outputs": [
    {
     "data": {
      "text/plain": [
       "'Hello this is a text file\\nthis is the second line\\nthis is the third line\\n'"
      ]
     },
     "execution_count": 173,
     "metadata": {},
     "output_type": "execute_result"
    }
   ],
   "source": [
    "myfile.read()"
   ]
  },
  {
   "cell_type": "code",
   "execution_count": 174,
   "id": "8fea8030-7079-406a-b202-9df5a5295f36",
   "metadata": {},
   "outputs": [
    {
     "data": {
      "text/plain": [
       "''"
      ]
     },
     "execution_count": 174,
     "metadata": {},
     "output_type": "execute_result"
    }
   ],
   "source": [
    "myfile.read()"
   ]
  },
  {
   "cell_type": "code",
   "execution_count": 180,
   "id": "8d2fd978-387f-4f45-b74d-b71b16738bfe",
   "metadata": {},
   "outputs": [
    {
     "data": {
      "text/plain": [
       "0"
      ]
     },
     "execution_count": 180,
     "metadata": {},
     "output_type": "execute_result"
    }
   ],
   "source": [
    "myfile.seek(0)"
   ]
  },
  {
   "cell_type": "code",
   "execution_count": 178,
   "id": "5627de2c-f184-4a4e-8dad-ce9b53f0fd91",
   "metadata": {},
   "outputs": [],
   "source": [
    "contents = myfile.read()"
   ]
  },
  {
   "cell_type": "code",
   "execution_count": 179,
   "id": "387f959a-978f-4a32-9661-07dc2e56d49a",
   "metadata": {},
   "outputs": [
    {
     "data": {
      "text/plain": [
       "'Hello this is a text file\\nthis is the second line\\nthis is the third line\\n'"
      ]
     },
     "execution_count": 179,
     "metadata": {},
     "output_type": "execute_result"
    }
   ],
   "source": [
    "contents"
   ]
  },
  {
   "cell_type": "code",
   "execution_count": 181,
   "id": "47ca2a09-24c2-43e8-850a-addd389575ce",
   "metadata": {},
   "outputs": [
    {
     "data": {
      "text/plain": [
       "['Hello this is a text file\\n',\n",
       " 'this is the second line\\n',\n",
       " 'this is the third line\\n']"
      ]
     },
     "execution_count": 181,
     "metadata": {},
     "output_type": "execute_result"
    }
   ],
   "source": [
    "myfile.readlines()"
   ]
  },
  {
   "cell_type": "code",
   "execution_count": 182,
   "id": "96950592-a6cd-4043-af17-2d5e67b3323c",
   "metadata": {},
   "outputs": [
    {
     "data": {
      "text/plain": [
       "[]"
      ]
     },
     "execution_count": 182,
     "metadata": {},
     "output_type": "execute_result"
    }
   ],
   "source": [
    "myfile.readlines()"
   ]
  },
  {
   "cell_type": "code",
   "execution_count": 188,
   "id": "a66cd7d3-ce17-46c9-a7d3-2c307cc527c1",
   "metadata": {},
   "outputs": [
    {
     "data": {
      "text/plain": [
       "0"
      ]
     },
     "execution_count": 188,
     "metadata": {},
     "output_type": "execute_result"
    }
   ],
   "source": [
    "myfile.seek(0)"
   ]
  },
  {
   "cell_type": "code",
   "execution_count": 187,
   "id": "f57c2320-7436-4c3f-8e32-ffe02eb0124d",
   "metadata": {},
   "outputs": [
    {
     "data": {
      "text/plain": [
       "'this is the third line\\n'"
      ]
     },
     "execution_count": 187,
     "metadata": {},
     "output_type": "execute_result"
    }
   ],
   "source": [
    "myfile.readline()"
   ]
  },
  {
   "cell_type": "code",
   "execution_count": 189,
   "id": "031fea72-12c7-4e5b-8f92-8e952f5f69ff",
   "metadata": {},
   "outputs": [],
   "source": [
    "myfile.close()"
   ]
  },
  {
   "cell_type": "code",
   "execution_count": 190,
   "id": "11bb80b1-99f3-474a-929c-c14f94b0a4dd",
   "metadata": {},
   "outputs": [],
   "source": [
    "with open('my_file.txt') as my_new_file:\n",
    "    contents=my_new_file.read()"
   ]
  },
  {
   "cell_type": "code",
   "execution_count": 191,
   "id": "1fbf27a6-26b0-4b84-91fa-47543d34e8cc",
   "metadata": {},
   "outputs": [
    {
     "data": {
      "text/plain": [
       "'Hello this is a text file\\nthis is the second line\\nthis is the third line\\n'"
      ]
     },
     "execution_count": 191,
     "metadata": {},
     "output_type": "execute_result"
    }
   ],
   "source": [
    "contents"
   ]
  },
  {
   "cell_type": "code",
   "execution_count": 192,
   "id": "ee777ede-f693-4e34-a4db-38eb659b75ce",
   "metadata": {},
   "outputs": [],
   "source": [
    "with open('my_file.txt',mode='a') as myfile:\n",
    "    contents=myfile.read()"
   ]
  },
  {
   "cell_type": "code",
   "execution_count": 193,
   "id": "3e6d2036-61a4-471d-bde2-55b8f5f80475",
   "metadata": {},
   "outputs": [
    {
     "data": {
      "text/plain": [
       "'Hello this is a text file\\nthis is the second line\\nthis is the third line\\n'"
      ]
     },
     "execution_count": 193,
     "metadata": {},
     "output_type": "execute_result"
    }
   ],
   "source": [
    "contents"
   ]
  },
  {
   "cell_type": "code",
   "execution_count": 199,
   "id": "dad893b4-2db3-4cab-a58d-e6a6cad35d79",
   "metadata": {},
   "outputs": [
    {
     "name": "stdout",
     "output_type": "stream",
     "text": [
      "Overwriting file.txt\n"
     ]
    }
   ],
   "source": [
    "%%writefile file.txt\n",
    "Hello this is a text file\n",
    "this is the second line\n",
    "this is the third line"
   ]
  },
  {
   "cell_type": "code",
   "execution_count": 195,
   "id": "c2f7c8a1-1b74-4b2f-930d-1922d868048e",
   "metadata": {},
   "outputs": [
    {
     "name": "stdout",
     "output_type": "stream",
     "text": [
      "Hello this is a text file\n",
      "this is the second line\n",
      "this is the third line\n",
      "\n"
     ]
    }
   ],
   "source": [
    "with open('file.txt', mode='r') as f:\n",
    "    print(f.read())"
   ]
  },
  {
   "cell_type": "code",
   "execution_count": 200,
   "id": "9c88f108-b783-4102-8a9a-930fa2c973b2",
   "metadata": {},
   "outputs": [],
   "source": [
    "with open('file.txt', mode='a') as f:\n",
    "    f.write('\\nFOUR on fourth')"
   ]
  },
  {
   "cell_type": "code",
   "execution_count": 201,
   "id": "aebe4340-2085-48a4-addd-00ea5318167e",
   "metadata": {},
   "outputs": [
    {
     "name": "stdout",
     "output_type": "stream",
     "text": [
      "Hello this is a text file\n",
      "this is the second line\n",
      "this is the third line\n",
      "\n",
      "FOUR on fourth\n"
     ]
    }
   ],
   "source": [
    "with open('file.txt', mode='r') as f:\n",
    "    print(f.read())"
   ]
  },
  {
   "cell_type": "code",
   "execution_count": 202,
   "id": "fc45dccb-d325-4523-827d-9619b70094cd",
   "metadata": {},
   "outputs": [],
   "source": [
    "with open('test.txt',mode='w') as f:\n",
    "    f.write('this was just created')"
   ]
  },
  {
   "cell_type": "code",
   "execution_count": 203,
   "id": "f6475554-dcb7-4383-b8a8-b238da3ffd68",
   "metadata": {},
   "outputs": [
    {
     "name": "stdout",
     "output_type": "stream",
     "text": [
      "this was just created\n"
     ]
    }
   ],
   "source": [
    "with open('test.txt',mode='r') as f:\n",
    "    print(f.read())"
   ]
  },
  {
   "cell_type": "code",
   "execution_count": null,
   "id": "ec479f07-e25a-4624-b6bd-900cb8ea123c",
   "metadata": {},
   "outputs": [],
   "source": []
  }
 ],
 "metadata": {
  "kernelspec": {
   "display_name": "Python 3 (ipykernel)",
   "language": "python",
   "name": "python3"
  },
  "language_info": {
   "codemirror_mode": {
    "name": "ipython",
    "version": 3
   },
   "file_extension": ".py",
   "mimetype": "text/x-python",
   "name": "python",
   "nbconvert_exporter": "python",
   "pygments_lexer": "ipython3",
   "version": "3.12.7"
  }
 },
 "nbformat": 4,
 "nbformat_minor": 5
}
